{
 "cells": [
  {
   "cell_type": "markdown",
   "id": "4ef4485e",
   "metadata": {},
   "source": [
    "# Ch9 Classes"
   ]
  },
  {
   "cell_type": "markdown",
   "id": "7b465366",
   "metadata": {},
   "source": [
    "### Python is an object oriented programming language.\n",
    "- Almost everything in Python is an object, with its properties and methods (Functions).\n",
    "- A Class is like an object constructor, or a \"blueprint\" for creating objects."
   ]
  },
  {
   "cell_type": "code",
   "execution_count": 15,
   "id": "741b88de",
   "metadata": {},
   "outputs": [
    {
     "name": "stdout",
     "output_type": "stream",
     "text": [
      "The email of first employee: angy.hill@company.com\n",
      "The first name of employee 1 is Angy\n",
      "The last name of employee 1 is Hill\n",
      "The age of employee 2 is 35\n",
      "The email of second employee: peter.white@company.com\n",
      "The full name : Angy Hill\n",
      "The full name : Peter White\n"
     ]
    }
   ],
   "source": [
    "class Employee(): #name of the class\n",
    "    #init is the constructor of the class.it is mandatory for a class construction\n",
    "    #self is used to represent the instance of the class\n",
    "    \n",
    "    def __init__(self,first,last,age,department): #method/function\n",
    "        self.first=first.title()\n",
    "        self.last=last.title()\n",
    "        self.age=age\n",
    "        self.department=department.title\n",
    "        self.email=first.lower()+\".\"+last.lower()+\"@company.com\"\n",
    "#creating a method called fullname it needs only the instance\n",
    "    def fullname(self):\n",
    "        print(f\"The full name : {self.first} {self.last}\")\n",
    "        \n",
    "        \n",
    "#init will run automatically when you call the class\n",
    "employee1=Employee(\"angy\",\"hill\",25,\"accounting\")\n",
    "employee2=Employee(\"PETER\",\"WHITE\",35,\"finance\")\n",
    "\n",
    "print(f\"The email of first employee: {employee1.email}\")\n",
    "print(f\"The first name of employee 1 is {employee1.first}\")\n",
    "print(f\"The last name of employee 1 is {employee1.last}\")\n",
    "print(f\"The age of employee 2 is {employee2.age}\")\n",
    "print(f\"The email of second employee: {employee2.email}\")\n",
    "#print(f\"The full name of employee 1 is {employee1.first} {employee1.last}\")\n",
    "#print(f\"The full name of employee 2 is {employee2.first} {employee2.last}\")\n",
    "employee1.fullname()\n",
    "employee2.fullname()"
   ]
  },
  {
   "cell_type": "code",
   "execution_count": null,
   "id": "a9136cf8",
   "metadata": {},
   "outputs": [],
   "source": []
  },
  {
   "cell_type": "code",
   "execution_count": null,
   "id": "65adc585",
   "metadata": {},
   "outputs": [],
   "source": []
  },
  {
   "cell_type": "code",
   "execution_count": null,
   "id": "2d22d248",
   "metadata": {},
   "outputs": [],
   "source": []
  },
  {
   "cell_type": "code",
   "execution_count": null,
   "id": "56daeddc",
   "metadata": {},
   "outputs": [],
   "source": []
  },
  {
   "cell_type": "code",
   "execution_count": null,
   "id": "18918d2e",
   "metadata": {},
   "outputs": [],
   "source": []
  },
  {
   "cell_type": "markdown",
   "id": "5d60f7c0",
   "metadata": {},
   "source": [
    "### Creating the Dog Class\n",
    "Each instance created from the Dog class will store a name and an age, and we’ll give each dog the ability to sit() and roll_over():"
   ]
  },
  {
   "cell_type": "code",
   "execution_count": 18,
   "id": "6e84155c",
   "metadata": {},
   "outputs": [
    {
     "name": "stdout",
     "output_type": "stream",
     "text": [
      "Shelly\n",
      "4\n",
      "Shelly is now sitting\n",
      "Shelly is rolling over\n",
      "Patty is now sitting\n",
      "Patty is rolling over\n",
      "Patty is barking at a stranger\n",
      "Patty shook itself dry\n",
      "Patty is now down\n"
     ]
    }
   ],
   "source": [
    "class Dog():\n",
    "    def __init__(self,name,age):\n",
    "        self.name=name.title()\n",
    "        self.age=age\n",
    "    def sit(self):\n",
    "        print(f\"{self.name} is now sitting\")\n",
    "    def roll_over(self):\n",
    "        print(f\"{self.name} is rolling over\")\n",
    "    def shake(self):\n",
    "        print(f\"{self.name} shook itself dry\")\n",
    "    def bark(self):\n",
    "        print(f\"{self.name} is barking at a stranger\")\n",
    "    def down(self):\n",
    "        print(f\"{self.name} is now down\")\n",
    "        \n",
    "dog1=Dog(\"shelly\",4)\n",
    "print(dog1.name)\n",
    "print(dog1.age)\n",
    "dog1.sit()\n",
    "dog1.roll_over()\n",
    "dog2=Dog(\"Patty\",6)\n",
    "dog2.sit()\n",
    "dog2.roll_over()\n",
    "dog2.bark()\n",
    "dog2.shake()\n",
    "dog2.down()"
   ]
  },
  {
   "cell_type": "code",
   "execution_count": null,
   "id": "3c70e9c0",
   "metadata": {},
   "outputs": [],
   "source": []
  },
  {
   "cell_type": "markdown",
   "id": "8bbcc5c0",
   "metadata": {},
   "source": [
    "#### Note:\n",
    "- By convention, capitalized names refer to classes in Python. \n",
    "- The parentheses in the class definition are empty because we’re creating this class from scratch.\n",
    "- All classes have a function called __init__(), which is always executed when the class is being initiated.\n",
    "- Use the __init__() function to assign values to object properties, or other operations that are necessary to do when the object is being created\n",
    "- Any variable prefixed with `self` is available to every method in the class, and we’ll also be able to access these variables through any instance created from the class.\n",
    "- The Dog class has two other methods defined: sit() and roll_over().Because these methods don’t need additional information like a name or age, we just define them to have one parameter, self."
   ]
  },
  {
   "cell_type": "markdown",
   "id": "402f0696",
   "metadata": {},
   "source": [
    "### Restaurant: Make a class called Restaurant. The __init__() method for Restaurant should store two attributes: a restaurant_name and a cuisine_type.\n",
    "- Make a method called `describe_restaurant()` that prints name of teh restrurent and the cuisine type\n",
    "- and a method called open_restaurant() that prints a message indicating that the restaurant is open.\n",
    "- Make an instance called restaurant from your class. Print the two attributes individually, and then call both methods.\n"
   ]
  },
  {
   "cell_type": "code",
   "execution_count": 8,
   "id": "c4316b2d",
   "metadata": {},
   "outputs": [
    {
     "name": "stdout",
     "output_type": "stream",
     "text": [
      " the restaurant name is The Mean Queen\n",
      " they serve Pizza food\n",
      "The Mean Queen serves wonderful Pizza.\n",
      "The Mean Queen is open for business. C'mon in!\n"
     ]
    }
   ],
   "source": [
    "class Restaurant():\n",
    "    def __init__(self,name,cuisinetype):\n",
    "        self.name=name.title()\n",
    "        self.cuisinetype=cuisinetype.title()\n",
    "    def describe_restaurant(self):\n",
    "        print(f\"{self.name} serves wonderful {self.cuisinetype}.\")\n",
    "    def open_restaurant(self):\n",
    "        print(f\"{self.name} is open for business. C'mon in!\")\n",
    "    \n",
    "restaurant1=Restaurant(\"The mean Queen\",\"Pizza\")\n",
    "print(f\" the restaurant name is {restaurant1.name}\")\n",
    "print(f\" they serve {restaurant1.cuisinetype} food\")\n",
    "restaurant1.describe_restaurant()\n",
    "restaurant1.open_restaurant()"
   ]
  },
  {
   "cell_type": "code",
   "execution_count": null,
   "id": "f9be3f46",
   "metadata": {},
   "outputs": [],
   "source": []
  },
  {
   "cell_type": "markdown",
   "id": "8b4a4fca",
   "metadata": {},
   "source": [
    "### - Create three different instances from the class, and call describe_restaurant() for each instance."
   ]
  },
  {
   "cell_type": "code",
   "execution_count": 10,
   "id": "b3845fe0",
   "metadata": {},
   "outputs": [
    {
     "name": "stdout",
     "output_type": "stream",
     "text": [
      "Placeholder serves wonderful Battery Acid.\n",
      "Hamburger Joint serves wonderful The Souls Of The Damned.\n",
      "Clay Oven serves wonderful Indian Food.\n"
     ]
    }
   ],
   "source": [
    "restaurant2=Restaurant(\"placeholder\",\"battery acid\")\n",
    "restaurant3=Restaurant(\"Hamburger joint\",\"the souls of the damned\")\n",
    "restaurant4=Restaurant(\"Clay Oven\",\"Indian food\")\n",
    "restaurant2.describe_restaurant()\n",
    "restaurant3.describe_restaurant()\n",
    "restaurant4.describe_restaurant()"
   ]
  },
  {
   "cell_type": "code",
   "execution_count": null,
   "id": "e6aa8a33",
   "metadata": {},
   "outputs": [],
   "source": []
  },
  {
   "cell_type": "code",
   "execution_count": null,
   "id": "6b24e6f1",
   "metadata": {},
   "outputs": [],
   "source": []
  },
  {
   "cell_type": "markdown",
   "id": "8f4032c6",
   "metadata": {},
   "source": [
    "### Users: Make a class called User. Create attributes called first_name and last_name, username, location \n",
    "- Make a method called describe_user() that prints a summary of the user’s information. \n",
    "- Make another method called greet_user() that prints a personalized greeting to the user.\n",
    "- Create several instances representing different users, and call both methods for each user."
   ]
  },
  {
   "cell_type": "code",
   "execution_count": 21,
   "id": "dda94ce2",
   "metadata": {},
   "outputs": [
    {
     "name": "stdout",
     "output_type": "stream",
     "text": [
      "\n",
      "Eric Matthews \n",
      "\t\tUsername: e_matthews\n",
      "\t\tLocation: Alaska\n",
      "Howdy e_matthews. It's a beautiful day in Alaska today!\n",
      "\n",
      "Willie Burger \n",
      "\t\tUsername: w_burger\n",
      "\t\tLocation: Alaska\n",
      "Howdy w_burger. It's a beautiful day in Alaska today!\n",
      "\n",
      "Motecuhzoma Xocoyotzin \n",
      "\t\tUsername: Hueytlatoani123\n",
      "\t\tLocation: Excan Tlahtoloyan\n",
      "Howdy Hueytlatoani123. It's a beautiful day in Excan Tlahtoloyan today!\n"
     ]
    }
   ],
   "source": [
    "class User():\n",
    "    def __init__(self,firstname,lastname,username,location):\n",
    "        self.firstname=firstname.title()\n",
    "        self.lastname=lastname.title()\n",
    "        self.username=username\n",
    "        self.location=location.title()\n",
    "    def describeuser(self):\n",
    "        print(f\"\\n{self.firstname} {self.lastname} \")\n",
    "        print(f\"\\t\\tUsername: {self.username}\")\n",
    "        print(f\"\\t\\tLocation: {self.location}\")\n",
    "    def greetuser(self):\n",
    "        print(f\"Howdy {self.username}. It's a beautiful day in {self.location} today!\")\n",
    "user1=User('eric','matthews','e_matthews','alaska')\n",
    "user2=User('willie','burger','w_burger','alaska')\n",
    "user3=User('Motecuhzoma','Xocoyotzin','Hueytlatoani123','excan tlahtoloyan')\n",
    "user1.describeuser()\n",
    "user1.greetuser()\n",
    "user2.describeuser()\n",
    "user2.greetuser()\n",
    "user3.describeuser()\n",
    "user3.greetuser()"
   ]
  },
  {
   "cell_type": "code",
   "execution_count": null,
   "id": "8864d617",
   "metadata": {},
   "outputs": [],
   "source": []
  },
  {
   "cell_type": "markdown",
   "id": "8b5bfff2",
   "metadata": {},
   "source": [
    "## Setting a Default Value for an Attribute\n",
    " *create a class called 'car' which contains make, model, and year\n",
    " *add the 'odometer_reading' default to zero \n",
    " *create a method called 'get_descriptive_name' which returns the car information\n",
    " *create a method called 'read_odometer' which will display the odometer reading of the car\n",
    " *create two car attributes to test the code"
   ]
  },
  {
   "cell_type": "code",
   "execution_count": 7,
   "id": "bbdc7a10",
   "metadata": {},
   "outputs": [],
   "source": [
    "class car():\n",
    "    #create a class called 'car' which contains make, model, and year\n",
    "    def __init__(self,make,model,year):\n",
    "        self.make=make\n",
    "        self.model=model\n",
    "        self.year=year\n",
    "        #add the 'odometer_reading' default to zero \n",
    "        self.odometer_reading=0\n",
    "\n",
    "    def get_descriptive_name(self):\n",
    "        long_name= str(self.year)+\" \"+self.make+\" \"+self.model\n",
    "        return long_name.title()\n",
    "    \n",
    "    def read_odometer(self):\n",
    "        print(f\"This car has {self.odometer_reading} miles on it\")\n",
    "    \n",
    "    \n",
    "\n",
    "        "
   ]
  },
  {
   "cell_type": "code",
   "execution_count": 10,
   "id": "35859896",
   "metadata": {},
   "outputs": [
    {
     "name": "stdout",
     "output_type": "stream",
     "text": [
      "My car: 2019 Nissan Versa\n",
      "My friend's car: 2018 Hyundai Elantra\n",
      "This car has 0 miles on it\n",
      "This car has 0 miles on it\n"
     ]
    }
   ],
   "source": [
    "my_car=car('nissan','versa',2019)\n",
    "friends_car=car('hyundai','elantra',2018)\n",
    "print(f\"My car: {my_car.get_descriptive_name()}\")\n",
    "print(f\"My friend's car: {friends_car.get_descriptive_name()}\")\n",
    "my_car.read_odometer()\n",
    "friends_car.read_odometer()"
   ]
  },
  {
   "cell_type": "code",
   "execution_count": null,
   "id": "9ea6316b",
   "metadata": {},
   "outputs": [],
   "source": []
  },
  {
   "cell_type": "markdown",
   "id": "3f840f3e",
   "metadata": {},
   "source": [
    "#### Modifying an Attribute’s Value Directly\n",
    "modifying the odometer_reading directly without the method"
   ]
  },
  {
   "cell_type": "code",
   "execution_count": 11,
   "id": "6f8fa540",
   "metadata": {},
   "outputs": [
    {
     "name": "stdout",
     "output_type": "stream",
     "text": [
      "This car has 23 miles on it\n"
     ]
    }
   ],
   "source": [
    "my_car.odometer_reading=23 #overwrite the default value\n",
    "my_car.read_odometer()"
   ]
  },
  {
   "cell_type": "code",
   "execution_count": 12,
   "id": "2f382418",
   "metadata": {},
   "outputs": [
    {
     "name": "stdout",
     "output_type": "stream",
     "text": [
      "This car has 10 miles on it\n"
     ]
    }
   ],
   "source": [
    "friends_car.odometer_reading=10\n",
    "friends_car.read_odometer()"
   ]
  },
  {
   "cell_type": "markdown",
   "id": "27f8f244",
   "metadata": {},
   "source": [
    "### Modifying an Attribute’s Value Through a Method"
   ]
  },
  {
   "cell_type": "code",
   "execution_count": 13,
   "id": "9b3ae956",
   "metadata": {},
   "outputs": [],
   "source": [
    "class car():\n",
    "    #create a class called 'car' which contains make, model, and year\n",
    "    def __init__(self,make,model,year):\n",
    "        self.make=make\n",
    "        self.model=model\n",
    "        self.year=year\n",
    "        #add the 'odometer_reading' default to zero \n",
    "        self.odometer_reading=0\n",
    "\n",
    "    def get_descriptive_name(self):\n",
    "        long_name= str(self.year)+\" \"+self.make+\" \"+self.model\n",
    "        return long_name.title()\n",
    "    \n",
    "    def read_odometer(self):\n",
    "        print(f\"This car has {self.odometer_reading} miles on it\")\n",
    "    \n",
    "    def update_odometer(self,mileage):\n",
    "        self.odometer_reading=mileage\n",
    "        "
   ]
  },
  {
   "cell_type": "code",
   "execution_count": 17,
   "id": "3c3c57c2",
   "metadata": {},
   "outputs": [
    {
     "name": "stdout",
     "output_type": "stream",
     "text": [
      "My car: 2019 Nissan Versa\n",
      "This car has 69 miles on it\n"
     ]
    }
   ],
   "source": [
    "my_car=car('nissan','versa',2019)\n",
    "print(f\"My car: {my_car.get_descriptive_name()}\")\n",
    "\n",
    "my_car.update_odometer(21)\n",
    "my_car.read_odometer()"
   ]
  },
  {
   "cell_type": "markdown",
   "id": "fd560131",
   "metadata": {},
   "source": [
    "### Incrementing an Attribute’s Value Through a Method"
   ]
  },
  {
   "cell_type": "code",
   "execution_count": 18,
   "id": "8d76b884",
   "metadata": {},
   "outputs": [],
   "source": [
    "class car():\n",
    "    #create a class called 'car' which contains make, model, and year\n",
    "    def __init__(self,make,model,year):\n",
    "        self.make=make\n",
    "        self.model=model\n",
    "        self.year=year\n",
    "        #add the 'odometer_reading' default to zero \n",
    "        self.odometer_reading=0\n",
    "\n",
    "    def get_descriptive_name(self):\n",
    "        long_name= str(self.year)+\" \"+self.make+\" \"+self.model\n",
    "        return long_name.title()\n",
    "    \n",
    "    def read_odometer(self):\n",
    "        print(f\"This car has {self.odometer_reading} miles on it\")\n",
    "    \n",
    "    def update_odometer(self,mileage):\n",
    "        self.odometer_reading=mileage\n",
    "        print(f\"the current odometer reading {self.odometer_reading}\")\n",
    "        \n",
    "    def incremental_odometer(self,miles):\n",
    "        self.odometer_reading+=miles\n",
    "        print(f\"the updated odometer reading is {self.odometer_reading}\")"
   ]
  },
  {
   "cell_type": "code",
   "execution_count": 22,
   "id": "1500c7e7",
   "metadata": {},
   "outputs": [
    {
     "name": "stdout",
     "output_type": "stream",
     "text": [
      "My car: 2019 Nissan Versa\n",
      "the current odometer reading 21\n",
      "This car has 21 miles on it\n",
      "the updated odometer reading is 121\n",
      "the updated odometer reading is 1123\n",
      "the updated odometer reading is 1234\n"
     ]
    }
   ],
   "source": [
    "my_car=car('nissan','versa',2019)\n",
    "print(f\"My car: {my_car.get_descriptive_name()}\")\n",
    "\n",
    "my_car.update_odometer(21)\n",
    "my_car.read_odometer()\n",
    "my_car.incremental_odometer(100)\n",
    "my_car.incremental_odometer(1002)\n",
    "my_car.incremental_odometer(111)"
   ]
  },
  {
   "cell_type": "markdown",
   "id": "b96f0d18",
   "metadata": {},
   "source": [
    "# Inheritance\n",
    "- You don’t always have to start from scratch when writing a class. If the class you’re writing is a specialized version of another class you wrote, you can use inheritance. \n",
    "- When one class inherits from another, it automatically takes on all the attributes and methods of the first class. The original class is called the `parent class`, and the new class is the `child class`. \n",
    "- The child class inherits every attribute and method from its parent class but is also free to define new attributes and methods of its own."
   ]
  },
  {
   "cell_type": "markdown",
   "id": "fbc6624a",
   "metadata": {},
   "source": [
    "## parent class, polygon\n",
    "-create a method called calc_perimeter"
   ]
  },
  {
   "cell_type": "code",
   "execution_count": 1,
   "id": "55bb54c2",
   "metadata": {},
   "outputs": [],
   "source": [
    "class polygon:\n",
    "    def __init__(self,side_length):\n",
    "        self.side_length=side_length\n",
    "    def perimeter(self):\n",
    "        return sum(self.side_length)"
   ]
  },
  {
   "cell_type": "code",
   "execution_count": 2,
   "id": "14cd5d5d",
   "metadata": {},
   "outputs": [
    {
     "name": "stdout",
     "output_type": "stream",
     "text": [
      "23\n"
     ]
    }
   ],
   "source": [
    "some_shape=polygon([1,3,5,6,8])\n",
    "print(some_shape.perimeter())"
   ]
  },
  {
   "cell_type": "code",
   "execution_count": 3,
   "id": "a5c21050",
   "metadata": {},
   "outputs": [
    {
     "name": "stdout",
     "output_type": "stream",
     "text": [
      "177\n"
     ]
    }
   ],
   "source": [
    "another_shape=polygon([2,56,65,12,34,8])\n",
    "print(another_shape.perimeter())"
   ]
  },
  {
   "cell_type": "markdown",
   "id": "7be5341f",
   "metadata": {},
   "source": [
    "# child class\n",
    "create a child class called triangle and calculate the perimeter and the area\n",
    "\n",
    "create a child class called square and calculate the perimeter and the area\n",
    "\n",
    "create a child class called rectangle and calculate the perimeter and the area"
   ]
  },
  {
   "cell_type": "code",
   "execution_count": 4,
   "id": "eb03a34f",
   "metadata": {},
   "outputs": [],
   "source": [
    "class Triangle(polygon):\n",
    "    def __init__(self,side_length):\n",
    "        super().__init__(side_length)\n",
    "    def area(self):\n",
    "        a,b,c=self.side_length # unpacking the input variables\n",
    "        s=(a+b+c)/2\n",
    "        return (s*(s-a)*(s-b)*(s-c))**.5"
   ]
  },
  {
   "cell_type": "code",
   "execution_count": 7,
   "id": "8563d81d",
   "metadata": {},
   "outputs": [
    {
     "name": "stdout",
     "output_type": "stream",
     "text": [
      "The perimeter is 12\n",
      "The area is 6\n"
     ]
    }
   ],
   "source": [
    "a_triangle=Triangle([3,4,5])\n",
    "print(f\"The perimeter is {a_triangle.perimeter()}\")\n",
    "print(f\"The area is {round(a_triangle.area())}\")"
   ]
  },
  {
   "cell_type": "code",
   "execution_count": 8,
   "id": "cf9c1602",
   "metadata": {},
   "outputs": [],
   "source": [
    "class Square(polygon):\n",
    "    def __init__(self,side_length):\n",
    "        super().__init__(side_length)\n",
    "    def area(self):\n",
    "        a,b,c,d=self.side_length\n",
    "        return a**2 # all sides are the same, since it is a square\n",
    "    \n",
    "    "
   ]
  },
  {
   "cell_type": "code",
   "execution_count": 9,
   "id": "31831028",
   "metadata": {},
   "outputs": [
    {
     "name": "stdout",
     "output_type": "stream",
     "text": [
      "The area is 4\n",
      "The perimeter is 8\n"
     ]
    }
   ],
   "source": [
    "a_square=Square([2,2,2,2])\n",
    "print(f\"The area is {a_square.area()}\")\n",
    "print(f\"The perimeter is {a_square.perimeter()}\")"
   ]
  },
  {
   "cell_type": "code",
   "execution_count": 14,
   "id": "1f615b60",
   "metadata": {},
   "outputs": [],
   "source": [
    "class Rectangle(polygon):\n",
    "    def __init__(self,side_length):\n",
    "        super().__init__(side_length)\n",
    "    def area(self):\n",
    "        a,b,c,d=self.side_length\n",
    "        if a!=b:\n",
    "            result=a*b\n",
    "        elif a!=c:\n",
    "            result=a*c\n",
    "        else:\n",
    "            result=a*d\n",
    "        return result"
   ]
  },
  {
   "cell_type": "code",
   "execution_count": 16,
   "id": "55f45661",
   "metadata": {},
   "outputs": [
    {
     "name": "stdout",
     "output_type": "stream",
     "text": [
      "The area of the rectangle is 6\n",
      "The perimeter of the rectangle is 10\n"
     ]
    }
   ],
   "source": [
    "a_rectangle=Rectangle([2,2,3,3])\n",
    "print(f\"The area of the rectangle is {a_rectangle.area()}\")\n",
    "print(f\"The perimeter of the rectangle is {a_rectangle.perimeter()}\")"
   ]
  },
  {
   "cell_type": "code",
   "execution_count": null,
   "id": "07cbb387",
   "metadata": {},
   "outputs": [],
   "source": []
  },
  {
   "cell_type": "code",
   "execution_count": null,
   "id": "34de9649",
   "metadata": {},
   "outputs": [],
   "source": []
  },
  {
   "cell_type": "markdown",
   "id": "5b594c20",
   "metadata": {},
   "source": [
    "### Practice: Create a class named Person, with firstname and lastname properties, and a printname method:"
   ]
  },
  {
   "cell_type": "code",
   "execution_count": 20,
   "id": "681edaaf",
   "metadata": {},
   "outputs": [],
   "source": [
    "class person():\n",
    "    def __init__(self,firstname,lastname):\n",
    "        self.firstname=firstname.title()\n",
    "        self.lastname=lastname.title()\n",
    "    def printname(self):\n",
    "        print(f\"Fullname: {self.firstname} {self.lastname}\")"
   ]
  },
  {
   "cell_type": "code",
   "execution_count": 21,
   "id": "9d3a0e56",
   "metadata": {},
   "outputs": [
    {
     "name": "stdout",
     "output_type": "stream",
     "text": [
      "Fullname: Joey Guthrie\n",
      "Fullname: Chicome Ocelotl\n"
     ]
    }
   ],
   "source": [
    "person1=person(\"Joey\",\"Guthrie\")\n",
    "person2=person(\"Chicome\",\"Ocelotl\")\n",
    "person1.printname()\n",
    "person2.printname()"
   ]
  },
  {
   "cell_type": "code",
   "execution_count": null,
   "id": "b75d7a0a",
   "metadata": {},
   "outputs": [],
   "source": []
  },
  {
   "cell_type": "markdown",
   "id": "a8023470",
   "metadata": {},
   "source": [
    "### Create child classes called Student using Inheritance contains the first and last name and the graduation year \n",
    "- Add a method called `welcome` that prints the student graduation year\n",
    "- Test the student method for two students"
   ]
  },
  {
   "cell_type": "code",
   "execution_count": 22,
   "id": "8a1571d5",
   "metadata": {},
   "outputs": [],
   "source": [
    "class student(person):\n",
    "    def __init__(self,firstname,lastname,graduationyear):\n",
    "        super().__init__(firstname,lastname)\n",
    "        self.graduationyear=graduationyear\n",
    "    def welcome(self):\n",
    "        print(f\"Welcome, {self.firstname} {self.lastname}, to the class of {self.graduationyear}\")"
   ]
  },
  {
   "cell_type": "code",
   "execution_count": 23,
   "id": "5816f6a4",
   "metadata": {},
   "outputs": [
    {
     "name": "stdout",
     "output_type": "stream",
     "text": [
      "Fullname: John Smith\n",
      "Welcome, John Smith, to the class of 2027\n"
     ]
    }
   ],
   "source": [
    "a_student=student(\"John\",\"Smith\",2027)\n",
    "a_student.printname()\n",
    "a_student.welcome()"
   ]
  },
  {
   "cell_type": "markdown",
   "id": "784b73e1",
   "metadata": {},
   "source": [
    "# MAKE A PARENT CLASS RECTANGLE WITH CHILD CLASS SQUARE AND TWO METHODS CALLED AREA AND PERIMETER. DO METHOD OVERLOADING FOR AREA AND PERIMETER"
   ]
  },
  {
   "cell_type": "code",
   "execution_count": 28,
   "id": "2d29eff3",
   "metadata": {},
   "outputs": [],
   "source": [
    "class Rectangle():\n",
    "    def __init__(self,length,width):\n",
    "        self.length=length\n",
    "        self.width=width\n",
    "    def area(self):\n",
    "        return self.length*self.width\n",
    "    def perimeter(self):\n",
    "        return (2*self.length)+(2*self.width)\n",
    "    "
   ]
  },
  {
   "cell_type": "code",
   "execution_count": 29,
   "id": "0cab0675",
   "metadata": {},
   "outputs": [],
   "source": [
    "class Square(Rectangle):\n",
    "    def __init__(self,length):\n",
    "        super().__init__(length,length)"
   ]
  },
  {
   "cell_type": "code",
   "execution_count": 32,
   "id": "e286f8d3",
   "metadata": {},
   "outputs": [
    {
     "name": "stdout",
     "output_type": "stream",
     "text": [
      "9\n",
      "12\n"
     ]
    }
   ],
   "source": [
    "square1=Square(3)\n",
    "print(square1.area())\n",
    "print(square1.perimeter())"
   ]
  },
  {
   "cell_type": "code",
   "execution_count": null,
   "id": "14664d77",
   "metadata": {},
   "outputs": [],
   "source": []
  },
  {
   "cell_type": "code",
   "execution_count": null,
   "id": "75ad787f",
   "metadata": {},
   "outputs": [],
   "source": []
  },
  {
   "cell_type": "markdown",
   "id": "ba7a2e8b",
   "metadata": {},
   "source": [
    "# Lambda Function"
   ]
  },
  {
   "cell_type": "markdown",
   "id": "5987a617",
   "metadata": {},
   "source": []
  },
  {
   "cell_type": "code",
   "execution_count": 1,
   "id": "94389d7e",
   "metadata": {},
   "outputs": [],
   "source": [
    "#the identity function returns the arguement\n",
    "def identity(x):\n",
    "    return x"
   ]
  },
  {
   "cell_type": "code",
   "execution_count": 2,
   "id": "e487a8a0",
   "metadata": {},
   "outputs": [
    {
     "data": {
      "text/plain": [
       "3"
      ]
     },
     "execution_count": 2,
     "metadata": {},
     "output_type": "execute_result"
    }
   ],
   "source": [
    "identity(3)"
   ]
  },
  {
   "cell_type": "markdown",
   "id": "60c911e3",
   "metadata": {},
   "source": [
    "### a Lambda function construction : \n",
    "lambda arguement(s):expression"
   ]
  },
  {
   "cell_type": "code",
   "execution_count": 3,
   "id": "d288a851",
   "metadata": {},
   "outputs": [
    {
     "data": {
      "text/plain": [
       "2"
      ]
     },
     "execution_count": 3,
     "metadata": {},
     "output_type": "execute_result"
    }
   ],
   "source": [
    "(lambda x:x)(2) #(lambda argument:expression)(input)"
   ]
  },
  {
   "cell_type": "code",
   "execution_count": 4,
   "id": "ea3e5d36",
   "metadata": {},
   "outputs": [
    {
     "data": {
      "text/plain": [
       "4"
      ]
     },
     "execution_count": 4,
     "metadata": {},
     "output_type": "execute_result"
    }
   ],
   "source": [
    "(lambda x:x+1)(3)"
   ]
  },
  {
   "cell_type": "code",
   "execution_count": 5,
   "id": "a2dba746",
   "metadata": {},
   "outputs": [],
   "source": [
    "# as lambda is a function, we can store it to a variable\n",
    "add_one=lambda x:x+1"
   ]
  },
  {
   "cell_type": "code",
   "execution_count": 6,
   "id": "f71f25aa",
   "metadata": {},
   "outputs": [
    {
     "data": {
      "text/plain": [
       "4"
      ]
     },
     "execution_count": 6,
     "metadata": {},
     "output_type": "execute_result"
    }
   ],
   "source": [
    "add_one(3)"
   ]
  },
  {
   "cell_type": "markdown",
   "id": "3e80183f",
   "metadata": {},
   "source": [
    "### common use of lambda function\n",
    "- it use with iterables which is a series of values\n",
    "- in python, the iterables are list, dictionary, tuple, strings, so on\n",
    "- two common function works with lambda function are 'filter()',and 'map()'"
   ]
  },
  {
   "cell_type": "markdown",
   "id": "56a89224",
   "metadata": {},
   "source": [
    "### filter() "
   ]
  },
  {
   "cell_type": "markdown",
   "id": "b34f2bd3",
   "metadata": {},
   "source": [
    "#### example: we have a list [1,2,3,4,5,6,7,8,9,10]. we are only interested in even numbers."
   ]
  },
  {
   "cell_type": "code",
   "execution_count": 8,
   "id": "3ec1be01",
   "metadata": {},
   "outputs": [
    {
     "data": {
      "text/plain": [
       "[2, 4, 6, 8, 10]"
      ]
     },
     "execution_count": 8,
     "metadata": {},
     "output_type": "execute_result"
    }
   ],
   "source": [
    "list1=[1,2,3,4,5,6,7,8,9,10]\n",
    "list(filter(lambda x:x%2==0,list1))"
   ]
  },
  {
   "cell_type": "code",
   "execution_count": 11,
   "id": "177cdd5c",
   "metadata": {},
   "outputs": [
    {
     "data": {
      "text/plain": [
       "[1, 3, 5, 7, 9]"
      ]
     },
     "execution_count": 11,
     "metadata": {},
     "output_type": "execute_result"
    }
   ],
   "source": [
    "# filter out the odd numbers\n",
    "list(filter(lambda x:x%2!=0,list1))"
   ]
  },
  {
   "cell_type": "code",
   "execution_count": 12,
   "id": "fa149d9c",
   "metadata": {},
   "outputs": [
    {
     "data": {
      "text/plain": [
       "[3, 6, 9]"
      ]
     },
     "execution_count": 12,
     "metadata": {},
     "output_type": "execute_result"
    }
   ],
   "source": [
    "list(filter(lambda x:x%3==0,list1)) #multipel of 3"
   ]
  },
  {
   "cell_type": "markdown",
   "id": "30f5e02f",
   "metadata": {},
   "source": [
    "### `map()`, use whenever you want to update or modify every value in an iterable"
   ]
  },
  {
   "cell_type": "code",
   "execution_count": 13,
   "id": "d3531655",
   "metadata": {},
   "outputs": [
    {
     "data": {
      "text/plain": [
       "[1, 4, 9, 16, 25, 36, 49, 64, 81, 100]"
      ]
     },
     "execution_count": 13,
     "metadata": {},
     "output_type": "execute_result"
    }
   ],
   "source": [
    "#create a new list of power of 2\n",
    "list1=[1,2,3,4,5,6,7,8,9,10]\n",
    "list(map(lambda x:pow(x,2),list1))"
   ]
  },
  {
   "cell_type": "code",
   "execution_count": 14,
   "id": "c26e3199",
   "metadata": {},
   "outputs": [
    {
     "data": {
      "text/plain": [
       "[1, 8, 27, 64, 125, 216, 343, 512, 729, 1000]"
      ]
     },
     "execution_count": 14,
     "metadata": {},
     "output_type": "execute_result"
    }
   ],
   "source": [
    "# cube of each number\n",
    "list(map(lambda x:pow(x,3),list1))"
   ]
  },
  {
   "cell_type": "code",
   "execution_count": 15,
   "id": "3cceda5a",
   "metadata": {},
   "outputs": [
    {
     "data": {
      "text/plain": [
       "[1, 8, 27, 64, 125, 216, 343, 512, 729, 1000]"
      ]
     },
     "execution_count": 15,
     "metadata": {},
     "output_type": "execute_result"
    }
   ],
   "source": [
    "list(map(lambda y:pow(y,3),list1))"
   ]
  },
  {
   "cell_type": "markdown",
   "id": "14e8428a",
   "metadata": {},
   "source": [
    "# example"
   ]
  },
  {
   "cell_type": "code",
   "execution_count": 16,
   "id": "11f7df03",
   "metadata": {},
   "outputs": [
    {
     "data": {
      "text/plain": [
       "6"
      ]
     },
     "execution_count": 16,
     "metadata": {},
     "output_type": "execute_result"
    }
   ],
   "source": [
    "(lambda x,y,z:x+y+z)(1,2,3)"
   ]
  },
  {
   "cell_type": "code",
   "execution_count": 17,
   "id": "c1ea24dc",
   "metadata": {},
   "outputs": [
    {
     "data": {
      "text/plain": [
       "5"
      ]
     },
     "execution_count": 17,
     "metadata": {},
     "output_type": "execute_result"
    }
   ],
   "source": [
    "(lambda x,y,z=2: x+y+z)(1,2)"
   ]
  },
  {
   "cell_type": "code",
   "execution_count": 18,
   "id": "657b0c24",
   "metadata": {},
   "outputs": [
    {
     "data": {
      "text/plain": [
       "3"
      ]
     },
     "execution_count": 18,
     "metadata": {},
     "output_type": "execute_result"
    }
   ],
   "source": [
    "(lambda x,y,z=2: x+y+z)(1,2,0)#overwrites z value"
   ]
  },
  {
   "cell_type": "code",
   "execution_count": 20,
   "id": "73c40a1f",
   "metadata": {},
   "outputs": [
    {
     "data": {
      "text/plain": [
       "23"
      ]
     },
     "execution_count": 20,
     "metadata": {},
     "output_type": "execute_result"
    }
   ],
   "source": [
    "(lambda *args: sum(args))(1,2,3,4,5,8)"
   ]
  },
  {
   "cell_type": "markdown",
   "id": "7d3d9e3a",
   "metadata": {},
   "source": [
    "# exception handling "
   ]
  },
  {
   "cell_type": "code",
   "execution_count": 21,
   "id": "af5f05f7",
   "metadata": {},
   "outputs": [
    {
     "ename": "ZeroDivisionError",
     "evalue": "division by zero",
     "output_type": "error",
     "traceback": [
      "\u001b[1;31m---------------------------------------------------------------------------\u001b[0m",
      "\u001b[1;31mZeroDivisionError\u001b[0m                         Traceback (most recent call last)",
      "\u001b[1;32m~\\AppData\\Local\\Temp\\ipykernel_14356\\1152173066.py\u001b[0m in \u001b[0;36m<module>\u001b[1;34m\u001b[0m\n\u001b[1;32m----> 1\u001b[1;33m \u001b[0mprint\u001b[0m\u001b[1;33m(\u001b[0m\u001b[1;36m5\u001b[0m\u001b[1;33m/\u001b[0m\u001b[1;36m0\u001b[0m\u001b[1;33m)\u001b[0m\u001b[1;33m\u001b[0m\u001b[1;33m\u001b[0m\u001b[0m\n\u001b[0m",
      "\u001b[1;31mZeroDivisionError\u001b[0m: division by zero"
     ]
    }
   ],
   "source": [
    "print(5/0)"
   ]
  },
  {
   "cell_type": "code",
   "execution_count": 22,
   "id": "384ce138",
   "metadata": {},
   "outputs": [
    {
     "ename": "TypeError",
     "evalue": "unsupported operand type(s) for +: 'int' and 'str'",
     "output_type": "error",
     "traceback": [
      "\u001b[1;31m---------------------------------------------------------------------------\u001b[0m",
      "\u001b[1;31mTypeError\u001b[0m                                 Traceback (most recent call last)",
      "\u001b[1;32m~\\AppData\\Local\\Temp\\ipykernel_14356\\1779440417.py\u001b[0m in \u001b[0;36m<module>\u001b[1;34m\u001b[0m\n\u001b[0;32m      1\u001b[0m \u001b[0mx\u001b[0m\u001b[1;33m=\u001b[0m\u001b[1;36m5\u001b[0m\u001b[1;33m\u001b[0m\u001b[1;33m\u001b[0m\u001b[0m\n\u001b[0;32m      2\u001b[0m \u001b[0my\u001b[0m\u001b[1;33m=\u001b[0m\u001b[1;34m'Hello'\u001b[0m\u001b[1;33m\u001b[0m\u001b[1;33m\u001b[0m\u001b[0m\n\u001b[1;32m----> 3\u001b[1;33m \u001b[0mz\u001b[0m\u001b[1;33m=\u001b[0m \u001b[0mx\u001b[0m\u001b[1;33m+\u001b[0m\u001b[0my\u001b[0m\u001b[1;33m\u001b[0m\u001b[1;33m\u001b[0m\u001b[0m\n\u001b[0m",
      "\u001b[1;31mTypeError\u001b[0m: unsupported operand type(s) for +: 'int' and 'str'"
     ]
    }
   ],
   "source": [
    "x=5\n",
    "y='Hello'\n",
    "z= x+y\n"
   ]
  },
  {
   "cell_type": "code",
   "execution_count": 23,
   "id": "8ba7ebca",
   "metadata": {},
   "outputs": [
    {
     "name": "stdout",
     "output_type": "stream",
     "text": [
      "Error: can not add integers and strings\n"
     ]
    }
   ],
   "source": [
    "x=5\n",
    "y='Hello'\n",
    "\n",
    "try:\n",
    "    z=x+y\n",
    "except TypeError:\n",
    "    print(\"Error: can not add integers and strings\")"
   ]
  },
  {
   "cell_type": "code",
   "execution_count": 25,
   "id": "b8af3ff8",
   "metadata": {},
   "outputs": [
    {
     "name": "stdout",
     "output_type": "stream",
     "text": [
      "Second Variable:  2\n",
      "An error occured\n"
     ]
    }
   ],
   "source": [
    "list1=[1,2,3]\n",
    "try:\n",
    "    print(\"Second Variable: \",list1[1])\n",
    "    print(\"Fourth Variable: \",list1[3])\n",
    "except:\n",
    "    print(\"An error occured\")"
   ]
  },
  {
   "cell_type": "code",
   "execution_count": 27,
   "id": "bb283d5c",
   "metadata": {},
   "outputs": [
    {
     "name": "stdout",
     "output_type": "stream",
     "text": [
      "Second Variable:  2\n"
     ]
    },
    {
     "ename": "IndexError",
     "evalue": "list index out of range",
     "output_type": "error",
     "traceback": [
      "\u001b[1;31m---------------------------------------------------------------------------\u001b[0m",
      "\u001b[1;31mIndexError\u001b[0m                                Traceback (most recent call last)",
      "\u001b[1;32m~\\AppData\\Local\\Temp\\ipykernel_14356\\3539409494.py\u001b[0m in \u001b[0;36m<module>\u001b[1;34m\u001b[0m\n\u001b[0;32m      1\u001b[0m \u001b[0mlist1\u001b[0m\u001b[1;33m=\u001b[0m\u001b[1;33m[\u001b[0m\u001b[1;36m1\u001b[0m\u001b[1;33m,\u001b[0m\u001b[1;36m2\u001b[0m\u001b[1;33m,\u001b[0m\u001b[1;36m3\u001b[0m\u001b[1;33m]\u001b[0m\u001b[1;33m\u001b[0m\u001b[1;33m\u001b[0m\u001b[0m\n\u001b[0;32m      2\u001b[0m \u001b[0mprint\u001b[0m\u001b[1;33m(\u001b[0m\u001b[1;34m\"Second Variable: \"\u001b[0m\u001b[1;33m,\u001b[0m\u001b[0mlist1\u001b[0m\u001b[1;33m[\u001b[0m\u001b[1;36m1\u001b[0m\u001b[1;33m]\u001b[0m\u001b[1;33m)\u001b[0m\u001b[1;33m\u001b[0m\u001b[1;33m\u001b[0m\u001b[0m\n\u001b[1;32m----> 3\u001b[1;33m \u001b[0mprint\u001b[0m\u001b[1;33m(\u001b[0m\u001b[1;34m\"Fourth Variable: \"\u001b[0m\u001b[1;33m,\u001b[0m\u001b[0mlist1\u001b[0m\u001b[1;33m[\u001b[0m\u001b[1;36m3\u001b[0m\u001b[1;33m]\u001b[0m\u001b[1;33m)\u001b[0m\u001b[1;33m\u001b[0m\u001b[1;33m\u001b[0m\u001b[0m\n\u001b[0m",
      "\u001b[1;31mIndexError\u001b[0m: list index out of range"
     ]
    }
   ],
   "source": [
    "list1=[1,2,3]\n",
    "print(\"Second Variable: \",list1[1])\n",
    "print(\"Fourth Variable: \",list1[3])"
   ]
  },
  {
   "cell_type": "code",
   "execution_count": 31,
   "id": "0c2f5133",
   "metadata": {},
   "outputs": [
    {
     "name": "stdout",
     "output_type": "stream",
     "text": [
      "-5.0\n",
      "a/b results in 0\n"
     ]
    }
   ],
   "source": [
    "def test(a,b):\n",
    "    try: \n",
    "        c=(a+b)/(a-b)\n",
    "    except:\n",
    "        print(\"a/b results in 0\")\n",
    "    else:\n",
    "        print(c)\n",
    "test(2,3)\n",
    "test(3,3)"
   ]
  },
  {
   "cell_type": "code",
   "execution_count": null,
   "id": "769a4d02",
   "metadata": {},
   "outputs": [],
   "source": []
  },
  {
   "cell_type": "code",
   "execution_count": null,
   "id": "2afff1a4",
   "metadata": {},
   "outputs": [],
   "source": []
  },
  {
   "cell_type": "code",
   "execution_count": null,
   "id": "d794af0a",
   "metadata": {},
   "outputs": [],
   "source": []
  },
  {
   "cell_type": "code",
   "execution_count": null,
   "id": "1c7887a8",
   "metadata": {},
   "outputs": [],
   "source": []
  },
  {
   "cell_type": "markdown",
   "id": "3bdcfd1c",
   "metadata": {},
   "source": [
    "## Create a simple calculator using classes\n",
    "(IP7)"
   ]
  },
  {
   "cell_type": "code",
   "execution_count": 32,
   "id": "6ab4b4b1",
   "metadata": {},
   "outputs": [
    {
     "ename": "KeyboardInterrupt",
     "evalue": "Interrupted by user",
     "output_type": "error",
     "traceback": [
      "\u001b[1;31m---------------------------------------------------------------------------\u001b[0m",
      "\u001b[1;31mKeyboardInterrupt\u001b[0m                         Traceback (most recent call last)",
      "\u001b[1;32m~\\AppData\\Local\\Temp\\ipykernel_14356\\2872625970.py\u001b[0m in \u001b[0;36m<module>\u001b[1;34m\u001b[0m\n\u001b[0;32m     12\u001b[0m         \u001b[1;32mreturn\u001b[0m \u001b[0mself\u001b[0m\u001b[1;33m.\u001b[0m\u001b[0minput1\u001b[0m\u001b[1;33m/\u001b[0m\u001b[0mself\u001b[0m\u001b[1;33m.\u001b[0m\u001b[0minput2\u001b[0m\u001b[1;33m\u001b[0m\u001b[1;33m\u001b[0m\u001b[0m\n\u001b[0;32m     13\u001b[0m \u001b[1;33m\u001b[0m\u001b[0m\n\u001b[1;32m---> 14\u001b[1;33m \u001b[0minput_1\u001b[0m\u001b[1;33m=\u001b[0m\u001b[0mint\u001b[0m\u001b[1;33m(\u001b[0m\u001b[0minput\u001b[0m\u001b[1;33m(\u001b[0m\u001b[1;34m\"Enter first number: \"\u001b[0m\u001b[1;33m)\u001b[0m\u001b[1;33m)\u001b[0m\u001b[1;33m\u001b[0m\u001b[1;33m\u001b[0m\u001b[0m\n\u001b[0m\u001b[0;32m     15\u001b[0m \u001b[0minput_2\u001b[0m\u001b[1;33m=\u001b[0m\u001b[0mint\u001b[0m\u001b[1;33m(\u001b[0m\u001b[0minput\u001b[0m\u001b[1;33m(\u001b[0m\u001b[1;34m\"Enter second number: \"\u001b[0m\u001b[1;33m)\u001b[0m\u001b[1;33m)\u001b[0m\u001b[1;33m\u001b[0m\u001b[1;33m\u001b[0m\u001b[0m\n\u001b[0;32m     16\u001b[0m \u001b[0mmy_calc\u001b[0m\u001b[1;33m=\u001b[0m\u001b[0mcalculator\u001b[0m\u001b[1;33m(\u001b[0m\u001b[0minput_1\u001b[0m\u001b[1;33m,\u001b[0m\u001b[0minput_2\u001b[0m\u001b[1;33m)\u001b[0m\u001b[1;33m\u001b[0m\u001b[1;33m\u001b[0m\u001b[0m\n",
      "\u001b[1;32m~\\anaconda3\\lib\\site-packages\\ipykernel\\kernelbase.py\u001b[0m in \u001b[0;36mraw_input\u001b[1;34m(self, prompt)\u001b[0m\n\u001b[0;32m   1175\u001b[0m                 \u001b[1;34m\"raw_input was called, but this frontend does not support input requests.\"\u001b[0m\u001b[1;33m\u001b[0m\u001b[1;33m\u001b[0m\u001b[0m\n\u001b[0;32m   1176\u001b[0m             )\n\u001b[1;32m-> 1177\u001b[1;33m         return self._input_request(\n\u001b[0m\u001b[0;32m   1178\u001b[0m             \u001b[0mstr\u001b[0m\u001b[1;33m(\u001b[0m\u001b[0mprompt\u001b[0m\u001b[1;33m)\u001b[0m\u001b[1;33m,\u001b[0m\u001b[1;33m\u001b[0m\u001b[1;33m\u001b[0m\u001b[0m\n\u001b[0;32m   1179\u001b[0m             \u001b[0mself\u001b[0m\u001b[1;33m.\u001b[0m\u001b[0m_parent_ident\u001b[0m\u001b[1;33m[\u001b[0m\u001b[1;34m\"shell\"\u001b[0m\u001b[1;33m]\u001b[0m\u001b[1;33m,\u001b[0m\u001b[1;33m\u001b[0m\u001b[1;33m\u001b[0m\u001b[0m\n",
      "\u001b[1;32m~\\anaconda3\\lib\\site-packages\\ipykernel\\kernelbase.py\u001b[0m in \u001b[0;36m_input_request\u001b[1;34m(self, prompt, ident, parent, password)\u001b[0m\n\u001b[0;32m   1217\u001b[0m             \u001b[1;32mexcept\u001b[0m \u001b[0mKeyboardInterrupt\u001b[0m\u001b[1;33m:\u001b[0m\u001b[1;33m\u001b[0m\u001b[1;33m\u001b[0m\u001b[0m\n\u001b[0;32m   1218\u001b[0m                 \u001b[1;31m# re-raise KeyboardInterrupt, to truncate traceback\u001b[0m\u001b[1;33m\u001b[0m\u001b[1;33m\u001b[0m\u001b[0m\n\u001b[1;32m-> 1219\u001b[1;33m                 \u001b[1;32mraise\u001b[0m \u001b[0mKeyboardInterrupt\u001b[0m\u001b[1;33m(\u001b[0m\u001b[1;34m\"Interrupted by user\"\u001b[0m\u001b[1;33m)\u001b[0m \u001b[1;32mfrom\u001b[0m \u001b[1;32mNone\u001b[0m\u001b[1;33m\u001b[0m\u001b[1;33m\u001b[0m\u001b[0m\n\u001b[0m\u001b[0;32m   1220\u001b[0m             \u001b[1;32mexcept\u001b[0m \u001b[0mException\u001b[0m\u001b[1;33m:\u001b[0m\u001b[1;33m\u001b[0m\u001b[1;33m\u001b[0m\u001b[0m\n\u001b[0;32m   1221\u001b[0m                 \u001b[0mself\u001b[0m\u001b[1;33m.\u001b[0m\u001b[0mlog\u001b[0m\u001b[1;33m.\u001b[0m\u001b[0mwarning\u001b[0m\u001b[1;33m(\u001b[0m\u001b[1;34m\"Invalid Message:\"\u001b[0m\u001b[1;33m,\u001b[0m \u001b[0mexc_info\u001b[0m\u001b[1;33m=\u001b[0m\u001b[1;32mTrue\u001b[0m\u001b[1;33m)\u001b[0m\u001b[1;33m\u001b[0m\u001b[1;33m\u001b[0m\u001b[0m\n",
      "\u001b[1;31mKeyboardInterrupt\u001b[0m: Interrupted by user"
     ]
    }
   ],
   "source": [
    "class calculator():\n",
    "    def __init__(self,input1,input2):\n",
    "        self.input1=input1\n",
    "        self.input2=input2\n",
    "    def addition(self):\n",
    "        return self.input1+self.input2\n",
    "    def subtraction(self):\n",
    "        return self.input1-self.input2\n",
    "    def multiplication(self):\n",
    "        return self.input1*self.input2\n",
    "    def division(self):\n",
    "        return self.input1/self.input2\n",
    "    \n",
    "input_1=int(input(\"Enter first number: \"))\n",
    "input_2=int(input(\"Enter second number: \"))\n",
    "my_calc=calculator(input_1,input_2)\n",
    "\n",
    "choice=1\n",
    "while choice!=0:\n",
    "    print()\n",
    "    print(\"0. Exit\")\n",
    "    print(\"1. Addition\")\n",
    "    print(\"2. Subtraction\")\n",
    "    print(\"3. Multiplication\")\n",
    "    print(\"4. Division\")\n",
    "    choice=int(input(\"Enter your choice....\"))\n",
    "    \n",
    "    if choice==1:\n",
    "        print(f\"Result: {my_calc.addition()}\")\n",
    "    elif choice==2:\n",
    "        print(f\"Result: {my_calc.subtraction()}\")\n",
    "    elif choice==3:\n",
    "        print(f\"Result: {my_calc.multiplication()}\")\n",
    "    elif choice==4:\n",
    "        print(f\"Result: {my_calc.division()}\")\n",
    "    elif choice==0:\n",
    "        print(\"Exit\")\n",
    "    else: \n",
    "        print(\"Sorry, invalid choice. Read the rules, kindly adjust.\")\n",
    "        \n"
   ]
  },
  {
   "cell_type": "code",
   "execution_count": null,
   "id": "a7a954a0",
   "metadata": {},
   "outputs": [],
   "source": []
  },
  {
   "cell_type": "code",
   "execution_count": null,
   "id": "39c3dee9",
   "metadata": {},
   "outputs": [],
   "source": []
  },
  {
   "cell_type": "markdown",
   "id": "0ec161b5",
   "metadata": {},
   "source": [
    "## ATM machine "
   ]
  },
  {
   "cell_type": "code",
   "execution_count": 33,
   "id": "267c3e25",
   "metadata": {},
   "outputs": [],
   "source": [
    "class BankAccount:\n",
    "    def __init__(self):\n",
    "        self.balance=0\n",
    "        print(\"Hello! Welcome to the ATM\")\n",
    "    def deposit(self):\n",
    "        amount=float(input(\"Enter the amount you want to deposit: \"))\n",
    "        self.balance+=amount\n",
    "        print(\"\\n Amount deposited\", amount)\n",
    "    def withdraw(self):\n",
    "        amount=float(input(\"Enter the amount you want to withdraw: \"))\n",
    "        if self.balance>=amount:\n",
    "            self.balance-=amount\n",
    "            print(\"\\n You withdrew\", amount)\n",
    "        else:\n",
    "            print(\"\\n Insufficient Balance\")\n",
    "    def display(self):\n",
    "        print(\"The avaliable balance is\", self.balance)"
   ]
  },
  {
   "cell_type": "code",
   "execution_count": 34,
   "id": "a6e40459",
   "metadata": {},
   "outputs": [
    {
     "name": "stdout",
     "output_type": "stream",
     "text": [
      "Hello! Welcome to the ATM\n",
      "The avaliable balance is 0\n"
     ]
    }
   ],
   "source": [
    "sams_account=BankAccount()\n",
    "sams_account.display()"
   ]
  },
  {
   "cell_type": "code",
   "execution_count": 35,
   "id": "5349965d",
   "metadata": {},
   "outputs": [
    {
     "name": "stdout",
     "output_type": "stream",
     "text": [
      "Enter the amount you want to deposit: 500\n",
      "\n",
      " Amount deposited 500.0\n"
     ]
    }
   ],
   "source": [
    "# deposit\n",
    "sams_account.deposit()"
   ]
  },
  {
   "cell_type": "code",
   "execution_count": 36,
   "id": "2ecdcc22",
   "metadata": {},
   "outputs": [
    {
     "name": "stdout",
     "output_type": "stream",
     "text": [
      "The avaliable balance is 500.0\n"
     ]
    }
   ],
   "source": [
    "sams_account.display()"
   ]
  },
  {
   "cell_type": "code",
   "execution_count": 38,
   "id": "88915d6e",
   "metadata": {},
   "outputs": [
    {
     "name": "stdout",
     "output_type": "stream",
     "text": [
      "Enter the amount you want to withdraw: 200\n",
      "\n",
      " You withdrew 200.0\n"
     ]
    }
   ],
   "source": [
    "sams_account.withdraw()"
   ]
  },
  {
   "cell_type": "code",
   "execution_count": 39,
   "id": "b73afcf5",
   "metadata": {},
   "outputs": [
    {
     "name": "stdout",
     "output_type": "stream",
     "text": [
      "The avaliable balance is 300.0\n"
     ]
    }
   ],
   "source": [
    "sams_account.display()"
   ]
  },
  {
   "cell_type": "code",
   "execution_count": null,
   "id": "c891be30",
   "metadata": {},
   "outputs": [],
   "source": []
  },
  {
   "cell_type": "code",
   "execution_count": null,
   "id": "a3429b90",
   "metadata": {},
   "outputs": [],
   "source": []
  }
 ],
 "metadata": {
  "kernelspec": {
   "display_name": "Python 3 (ipykernel)",
   "language": "python",
   "name": "python3"
  },
  "language_info": {
   "codemirror_mode": {
    "name": "ipython",
    "version": 3
   },
   "file_extension": ".py",
   "mimetype": "text/x-python",
   "name": "python",
   "nbconvert_exporter": "python",
   "pygments_lexer": "ipython3",
   "version": "3.9.13"
  }
 },
 "nbformat": 4,
 "nbformat_minor": 5
}
